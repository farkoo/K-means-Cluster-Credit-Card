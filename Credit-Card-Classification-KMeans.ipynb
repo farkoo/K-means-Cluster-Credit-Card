{
 "cells": [
  {
   "cell_type": "code",
   "execution_count": 4,
   "id": "738b1ca2",
   "metadata": {},
   "outputs": [],
   "source": [
    "# Essentials:\n",
    "import numpy as np\n",
    "import pandas as pd\n",
    "import matplotlib.pyplot as plt\n",
    "import seaborn as sns\n",
    "\n",
    "#ignore warnings\n",
    "import warnings\n",
    "warnings.filterwarnings('ignore')\n",
    "\n",
    "# imputation\n",
    "from sklearn.impute import KNNImputer\n",
    "\n",
    "# Scaling\n",
    "from sklearn.preprocessing import StandardScaler\n",
    "\n",
    "# PCA\n",
    "from sklearn.decomposition import PCA\n",
    "\n",
    "# K-means for Clustering\n",
    "from sklearn.cluster import KMeans\n",
    "\n",
    "# elbow method\n",
    "from yellowbrick.cluster import KElbowVisualizer\n",
    "\n",
    "# cluster metrics\n",
    "from sklearn.metrics import davies_bouldin_score\n",
    "from sklearn.metrics import silhouette_score\n",
    "\n",
    "# Silhouette Visualizer\n",
    "from yellowbrick.cluster import SilhouetteVisualizer"
   ]
  },
  {
   "cell_type": "code",
   "execution_count": 5,
   "id": "cf14d6c0",
   "metadata": {},
   "outputs": [],
   "source": [
    "cc_general = pd.read_csv('CC GENERAL.csv')"
   ]
  },
  {
   "cell_type": "code",
   "execution_count": 6,
   "id": "f8957c86",
   "metadata": {},
   "outputs": [
    {
     "data": {
      "text/html": [
       "<div>\n",
       "<style scoped>\n",
       "    .dataframe tbody tr th:only-of-type {\n",
       "        vertical-align: middle;\n",
       "    }\n",
       "\n",
       "    .dataframe tbody tr th {\n",
       "        vertical-align: top;\n",
       "    }\n",
       "\n",
       "    .dataframe thead th {\n",
       "        text-align: right;\n",
       "    }\n",
       "</style>\n",
       "<table border=\"1\" class=\"dataframe\">\n",
       "  <thead>\n",
       "    <tr style=\"text-align: right;\">\n",
       "      <th></th>\n",
       "      <th>CUST_ID</th>\n",
       "      <th>BALANCE</th>\n",
       "      <th>BALANCE_FREQUENCY</th>\n",
       "      <th>PURCHASES</th>\n",
       "      <th>ONEOFF_PURCHASES</th>\n",
       "      <th>INSTALLMENTS_PURCHASES</th>\n",
       "      <th>CASH_ADVANCE</th>\n",
       "      <th>PURCHASES_FREQUENCY</th>\n",
       "      <th>ONEOFF_PURCHASES_FREQUENCY</th>\n",
       "      <th>PURCHASES_INSTALLMENTS_FREQUENCY</th>\n",
       "      <th>CASH_ADVANCE_FREQUENCY</th>\n",
       "      <th>CASH_ADVANCE_TRX</th>\n",
       "      <th>PURCHASES_TRX</th>\n",
       "      <th>CREDIT_LIMIT</th>\n",
       "      <th>PAYMENTS</th>\n",
       "      <th>MINIMUM_PAYMENTS</th>\n",
       "      <th>PRC_FULL_PAYMENT</th>\n",
       "      <th>TENURE</th>\n",
       "    </tr>\n",
       "  </thead>\n",
       "  <tbody>\n",
       "    <tr>\n",
       "      <th>0</th>\n",
       "      <td>C10001</td>\n",
       "      <td>40.900749</td>\n",
       "      <td>0.818182</td>\n",
       "      <td>95.40</td>\n",
       "      <td>0.00</td>\n",
       "      <td>95.4</td>\n",
       "      <td>0.000000</td>\n",
       "      <td>0.166667</td>\n",
       "      <td>0.000000</td>\n",
       "      <td>0.083333</td>\n",
       "      <td>0.000000</td>\n",
       "      <td>0</td>\n",
       "      <td>2</td>\n",
       "      <td>1000.0</td>\n",
       "      <td>201.802084</td>\n",
       "      <td>139.509787</td>\n",
       "      <td>0.000000</td>\n",
       "      <td>12</td>\n",
       "    </tr>\n",
       "    <tr>\n",
       "      <th>1</th>\n",
       "      <td>C10002</td>\n",
       "      <td>3202.467416</td>\n",
       "      <td>0.909091</td>\n",
       "      <td>0.00</td>\n",
       "      <td>0.00</td>\n",
       "      <td>0.0</td>\n",
       "      <td>6442.945483</td>\n",
       "      <td>0.000000</td>\n",
       "      <td>0.000000</td>\n",
       "      <td>0.000000</td>\n",
       "      <td>0.250000</td>\n",
       "      <td>4</td>\n",
       "      <td>0</td>\n",
       "      <td>7000.0</td>\n",
       "      <td>4103.032597</td>\n",
       "      <td>1072.340217</td>\n",
       "      <td>0.222222</td>\n",
       "      <td>12</td>\n",
       "    </tr>\n",
       "    <tr>\n",
       "      <th>2</th>\n",
       "      <td>C10003</td>\n",
       "      <td>2495.148862</td>\n",
       "      <td>1.000000</td>\n",
       "      <td>773.17</td>\n",
       "      <td>773.17</td>\n",
       "      <td>0.0</td>\n",
       "      <td>0.000000</td>\n",
       "      <td>1.000000</td>\n",
       "      <td>1.000000</td>\n",
       "      <td>0.000000</td>\n",
       "      <td>0.000000</td>\n",
       "      <td>0</td>\n",
       "      <td>12</td>\n",
       "      <td>7500.0</td>\n",
       "      <td>622.066742</td>\n",
       "      <td>627.284787</td>\n",
       "      <td>0.000000</td>\n",
       "      <td>12</td>\n",
       "    </tr>\n",
       "    <tr>\n",
       "      <th>3</th>\n",
       "      <td>C10004</td>\n",
       "      <td>1666.670542</td>\n",
       "      <td>0.636364</td>\n",
       "      <td>1499.00</td>\n",
       "      <td>1499.00</td>\n",
       "      <td>0.0</td>\n",
       "      <td>205.788017</td>\n",
       "      <td>0.083333</td>\n",
       "      <td>0.083333</td>\n",
       "      <td>0.000000</td>\n",
       "      <td>0.083333</td>\n",
       "      <td>1</td>\n",
       "      <td>1</td>\n",
       "      <td>7500.0</td>\n",
       "      <td>0.000000</td>\n",
       "      <td>NaN</td>\n",
       "      <td>0.000000</td>\n",
       "      <td>12</td>\n",
       "    </tr>\n",
       "    <tr>\n",
       "      <th>4</th>\n",
       "      <td>C10005</td>\n",
       "      <td>817.714335</td>\n",
       "      <td>1.000000</td>\n",
       "      <td>16.00</td>\n",
       "      <td>16.00</td>\n",
       "      <td>0.0</td>\n",
       "      <td>0.000000</td>\n",
       "      <td>0.083333</td>\n",
       "      <td>0.083333</td>\n",
       "      <td>0.000000</td>\n",
       "      <td>0.000000</td>\n",
       "      <td>0</td>\n",
       "      <td>1</td>\n",
       "      <td>1200.0</td>\n",
       "      <td>678.334763</td>\n",
       "      <td>244.791237</td>\n",
       "      <td>0.000000</td>\n",
       "      <td>12</td>\n",
       "    </tr>\n",
       "  </tbody>\n",
       "</table>\n",
       "</div>"
      ],
      "text/plain": [
       "  CUST_ID      BALANCE  BALANCE_FREQUENCY  PURCHASES  ONEOFF_PURCHASES  \\\n",
       "0  C10001    40.900749           0.818182      95.40              0.00   \n",
       "1  C10002  3202.467416           0.909091       0.00              0.00   \n",
       "2  C10003  2495.148862           1.000000     773.17            773.17   \n",
       "3  C10004  1666.670542           0.636364    1499.00           1499.00   \n",
       "4  C10005   817.714335           1.000000      16.00             16.00   \n",
       "\n",
       "   INSTALLMENTS_PURCHASES  CASH_ADVANCE  PURCHASES_FREQUENCY  \\\n",
       "0                    95.4      0.000000             0.166667   \n",
       "1                     0.0   6442.945483             0.000000   \n",
       "2                     0.0      0.000000             1.000000   \n",
       "3                     0.0    205.788017             0.083333   \n",
       "4                     0.0      0.000000             0.083333   \n",
       "\n",
       "   ONEOFF_PURCHASES_FREQUENCY  PURCHASES_INSTALLMENTS_FREQUENCY  \\\n",
       "0                    0.000000                          0.083333   \n",
       "1                    0.000000                          0.000000   \n",
       "2                    1.000000                          0.000000   \n",
       "3                    0.083333                          0.000000   \n",
       "4                    0.083333                          0.000000   \n",
       "\n",
       "   CASH_ADVANCE_FREQUENCY  CASH_ADVANCE_TRX  PURCHASES_TRX  CREDIT_LIMIT  \\\n",
       "0                0.000000                 0              2        1000.0   \n",
       "1                0.250000                 4              0        7000.0   \n",
       "2                0.000000                 0             12        7500.0   \n",
       "3                0.083333                 1              1        7500.0   \n",
       "4                0.000000                 0              1        1200.0   \n",
       "\n",
       "      PAYMENTS  MINIMUM_PAYMENTS  PRC_FULL_PAYMENT  TENURE  \n",
       "0   201.802084        139.509787          0.000000      12  \n",
       "1  4103.032597       1072.340217          0.222222      12  \n",
       "2   622.066742        627.284787          0.000000      12  \n",
       "3     0.000000               NaN          0.000000      12  \n",
       "4   678.334763        244.791237          0.000000      12  "
      ]
     },
     "execution_count": 6,
     "metadata": {},
     "output_type": "execute_result"
    }
   ],
   "source": [
    "cc_general.head()"
   ]
  },
  {
   "cell_type": "markdown",
   "id": "d9db9328",
   "metadata": {},
   "source": [
    "# Check for missing values:"
   ]
  },
  {
   "cell_type": "code",
   "execution_count": 7,
   "id": "1cd73e39",
   "metadata": {},
   "outputs": [
    {
     "data": {
      "text/plain": [
       "CUST_ID                               0\n",
       "BALANCE                               0\n",
       "BALANCE_FREQUENCY                     0\n",
       "PURCHASES                             0\n",
       "ONEOFF_PURCHASES                      0\n",
       "INSTALLMENTS_PURCHASES                0\n",
       "CASH_ADVANCE                          0\n",
       "PURCHASES_FREQUENCY                   0\n",
       "ONEOFF_PURCHASES_FREQUENCY            0\n",
       "PURCHASES_INSTALLMENTS_FREQUENCY      0\n",
       "CASH_ADVANCE_FREQUENCY                0\n",
       "CASH_ADVANCE_TRX                      0\n",
       "PURCHASES_TRX                         0\n",
       "CREDIT_LIMIT                          1\n",
       "PAYMENTS                              0\n",
       "MINIMUM_PAYMENTS                    313\n",
       "PRC_FULL_PAYMENT                      0\n",
       "TENURE                                0\n",
       "dtype: int64"
      ]
     },
     "execution_count": 7,
     "metadata": {},
     "output_type": "execute_result"
    }
   ],
   "source": [
    "cc_general.isna().sum()"
   ]
  },
  {
   "cell_type": "markdown",
   "id": "b23b3e33",
   "metadata": {},
   "source": [
    "## Check for outliers:\n",
    "\n",
    "Using IQR, we can follow the below approach to find outliers:\n",
    "\n",
    "- Calculate the first and third quartile (Q1 and Q3).\n",
    "- Further, evaluate the interquartile range, IQR = Q3-Q1.\n",
    "- Estimate the lower bound, the lower bound = Q1*1.5\n",
    "- Estimate the upper bound, upper bound = Q3*1.5\n",
    "- The data points that lie outside of the lower and the upper bound are outliers."
   ]
  },
  {
   "cell_type": "code",
   "execution_count": 8,
   "id": "ddddbcc5",
   "metadata": {},
   "outputs": [],
   "source": [
    "def outlier_percent(data):\n",
    "    Q1 = data.quantile(0.25)\n",
    "    Q3 = data.quantile(0.75)\n",
    "    IQR = Q3 - Q1\n",
    "    minimum = Q1 - (1.5 * IQR)\n",
    "    maximum = Q3 + (1.5 * IQR)\n",
    "    num_outliers =  np.sum((data < minimum) |(data > maximum))\n",
    "    num_total = data.count()\n",
    "    return (num_outliers/num_total)*100"
   ]
  },
  {
   "cell_type": "code",
   "execution_count": 9,
   "id": "4238b05e",
   "metadata": {},
   "outputs": [
    {
     "name": "stdout",
     "output_type": "stream",
     "text": [
      "Outliers in \"BALANCE\": 7.77%\n",
      "Outliers in \"BALANCE_FREQUENCY\": 16.68%\n",
      "Outliers in \"PURCHASES\": 9.03%\n",
      "Outliers in \"ONEOFF_PURCHASES\": 11.32%\n",
      "Outliers in \"INSTALLMENTS_PURCHASES\": 9.69%\n",
      "Outliers in \"CASH_ADVANCE\": 11.51%\n",
      "Outliers in \"PURCHASES_FREQUENCY\": 0.0%\n",
      "Outliers in \"ONEOFF_PURCHASES_FREQUENCY\": 8.74%\n",
      "Outliers in \"PURCHASES_INSTALLMENTS_FREQUENCY\": 0.0%\n",
      "Outliers in \"CASH_ADVANCE_FREQUENCY\": 5.87%\n",
      "Outliers in \"CASH_ADVANCE_TRX\": 8.98%\n",
      "Outliers in \"PURCHASES_TRX\": 8.56%\n",
      "Outliers in \"CREDIT_LIMIT\": 2.77%\n",
      "Outliers in \"PAYMENTS\": 9.03%\n",
      "Outliers in \"MINIMUM_PAYMENTS\": 9.74%\n",
      "Outliers in \"PRC_FULL_PAYMENT\": 16.47%\n",
      "Outliers in \"TENURE\": 15.26%\n"
     ]
    }
   ],
   "source": [
    "non_categorical_data = cc_general.drop(['CUST_ID'], axis=1)\n",
    "for column in non_categorical_data.columns:\n",
    "    data = non_categorical_data[column]\n",
    "    percent = str(round(outlier_percent(data), 2))\n",
    "    print(f'Outliers in \"{column}\": {percent}%')"
   ]
  },
  {
   "cell_type": "markdown",
   "id": "92d41a88",
   "metadata": {},
   "source": [
    "# Preprocessing\n",
    "in this part, I'm going to:\n",
    "1. remove the outliers\n",
    "2. impute missing data\n",
    "3. scale the data\n",
    "4. Reduce dimentions using PCA"
   ]
  },
  {
   "cell_type": "markdown",
   "id": "ee3c6634",
   "metadata": {},
   "source": [
    "## Removing the outliers\n",
    "first, let's get rid of the noise. we're going to first set all outliers as `NaN`, so it will be taken care of in the next stage, where we impute the missing values. "
   ]
  },
  {
   "cell_type": "code",
   "execution_count": 11,
   "id": "cc317936",
   "metadata": {},
   "outputs": [
    {
     "data": {
      "text/plain": [
       "BALANCE                              695\n",
       "BALANCE_FREQUENCY                   1493\n",
       "PURCHASES                            808\n",
       "ONEOFF_PURCHASES                    1013\n",
       "INSTALLMENTS_PURCHASES               867\n",
       "CASH_ADVANCE                        1030\n",
       "PURCHASES_FREQUENCY                    0\n",
       "ONEOFF_PURCHASES_FREQUENCY           782\n",
       "PURCHASES_INSTALLMENTS_FREQUENCY       0\n",
       "CASH_ADVANCE_FREQUENCY               525\n",
       "CASH_ADVANCE_TRX                     804\n",
       "PURCHASES_TRX                        766\n",
       "CREDIT_LIMIT                         249\n",
       "PAYMENTS                             808\n",
       "MINIMUM_PAYMENTS                    1154\n",
       "PRC_FULL_PAYMENT                    1474\n",
       "TENURE                              1366\n",
       "dtype: int64"
      ]
     },
     "execution_count": 11,
     "metadata": {},
     "output_type": "execute_result"
    }
   ],
   "source": [
    "for column in non_categorical_data.columns:\n",
    "    data = non_categorical_data[column]\n",
    "    \n",
    "    Q1 = data.quantile(0.25)\n",
    "    Q3 = data.quantile(0.75)\n",
    "    IQR = Q3 - Q1\n",
    "    minimum = Q1 - (1.5 * IQR)\n",
    "    maximum = Q3 + (1.5 * IQR)\n",
    " \n",
    "    outliers = ((data < minimum) |(data > maximum))\n",
    "    non_categorical_data[column].loc[outliers] = np.nan\n",
    "    \n",
    "non_categorical_data.isna().sum()"
   ]
  },
  {
   "cell_type": "markdown",
   "id": "488f70aa",
   "metadata": {},
   "source": [
    "## Imputing the missing data\n",
    "I use `KNN imputer`: Each sample’s missing values are imputed using the mean value from n_neighbors nearest neighbors found in the training set."
   ]
  },
  {
   "cell_type": "code",
   "execution_count": 12,
   "id": "17f442ca",
   "metadata": {},
   "outputs": [
    {
     "data": {
      "text/plain": [
       "BALANCE                             0\n",
       "BALANCE_FREQUENCY                   0\n",
       "PURCHASES                           0\n",
       "ONEOFF_PURCHASES                    0\n",
       "INSTALLMENTS_PURCHASES              0\n",
       "CASH_ADVANCE                        0\n",
       "PURCHASES_FREQUENCY                 0\n",
       "ONEOFF_PURCHASES_FREQUENCY          0\n",
       "PURCHASES_INSTALLMENTS_FREQUENCY    0\n",
       "CASH_ADVANCE_FREQUENCY              0\n",
       "CASH_ADVANCE_TRX                    0\n",
       "PURCHASES_TRX                       0\n",
       "CREDIT_LIMIT                        0\n",
       "PAYMENTS                            0\n",
       "MINIMUM_PAYMENTS                    0\n",
       "PRC_FULL_PAYMENT                    0\n",
       "TENURE                              0\n",
       "dtype: int64"
      ]
     },
     "execution_count": 12,
     "metadata": {},
     "output_type": "execute_result"
    }
   ],
   "source": [
    "imputer = KNNImputer()\n",
    "imp_data = pd.DataFrame(imputer.fit_transform(non_categorical_data), columns=non_categorical_data.columns)\n",
    "imp_data.isna().sum()"
   ]
  },
  {
   "cell_type": "markdown",
   "id": "b215dd58",
   "metadata": {},
   "source": [
    "## Scale the Data\n",
    "I use `StandardScaler`"
   ]
  },
  {
   "cell_type": "code",
   "execution_count": 13,
   "id": "5c11ff55",
   "metadata": {},
   "outputs": [
    {
     "data": {
      "text/html": [
       "<div>\n",
       "<style scoped>\n",
       "    .dataframe tbody tr th:only-of-type {\n",
       "        vertical-align: middle;\n",
       "    }\n",
       "\n",
       "    .dataframe tbody tr th {\n",
       "        vertical-align: top;\n",
       "    }\n",
       "\n",
       "    .dataframe thead th {\n",
       "        text-align: right;\n",
       "    }\n",
       "</style>\n",
       "<table border=\"1\" class=\"dataframe\">\n",
       "  <thead>\n",
       "    <tr style=\"text-align: right;\">\n",
       "      <th></th>\n",
       "      <th>BALANCE</th>\n",
       "      <th>BALANCE_FREQUENCY</th>\n",
       "      <th>PURCHASES</th>\n",
       "      <th>ONEOFF_PURCHASES</th>\n",
       "      <th>INSTALLMENTS_PURCHASES</th>\n",
       "      <th>CASH_ADVANCE</th>\n",
       "      <th>PURCHASES_FREQUENCY</th>\n",
       "      <th>ONEOFF_PURCHASES_FREQUENCY</th>\n",
       "      <th>PURCHASES_INSTALLMENTS_FREQUENCY</th>\n",
       "      <th>CASH_ADVANCE_FREQUENCY</th>\n",
       "      <th>CASH_ADVANCE_TRX</th>\n",
       "      <th>PURCHASES_TRX</th>\n",
       "      <th>CREDIT_LIMIT</th>\n",
       "      <th>PAYMENTS</th>\n",
       "      <th>MINIMUM_PAYMENTS</th>\n",
       "      <th>PRC_FULL_PAYMENT</th>\n",
       "      <th>TENURE</th>\n",
       "    </tr>\n",
       "  </thead>\n",
       "  <tbody>\n",
       "    <tr>\n",
       "      <th>count</th>\n",
       "      <td>8.950000e+03</td>\n",
       "      <td>8.950000e+03</td>\n",
       "      <td>8.950000e+03</td>\n",
       "      <td>8.950000e+03</td>\n",
       "      <td>8.950000e+03</td>\n",
       "      <td>8.950000e+03</td>\n",
       "      <td>8.950000e+03</td>\n",
       "      <td>8.950000e+03</td>\n",
       "      <td>8.950000e+03</td>\n",
       "      <td>8.950000e+03</td>\n",
       "      <td>8.950000e+03</td>\n",
       "      <td>8.950000e+03</td>\n",
       "      <td>8.950000e+03</td>\n",
       "      <td>8.950000e+03</td>\n",
       "      <td>8.950000e+03</td>\n",
       "      <td>8.950000e+03</td>\n",
       "      <td>8950.0</td>\n",
       "    </tr>\n",
       "    <tr>\n",
       "      <th>mean</th>\n",
       "      <td>1.459292e-16</td>\n",
       "      <td>3.641780e-15</td>\n",
       "      <td>-3.845664e-15</td>\n",
       "      <td>8.330072e-15</td>\n",
       "      <td>9.068103e-16</td>\n",
       "      <td>8.933760e-16</td>\n",
       "      <td>-3.716084e-16</td>\n",
       "      <td>-7.758809e-15</td>\n",
       "      <td>2.353921e-16</td>\n",
       "      <td>-9.233334e-16</td>\n",
       "      <td>-7.427330e-17</td>\n",
       "      <td>9.962980e-16</td>\n",
       "      <td>4.909878e-15</td>\n",
       "      <td>4.842805e-16</td>\n",
       "      <td>-2.008573e-16</td>\n",
       "      <td>-2.921344e-15</td>\n",
       "      <td>0.0</td>\n",
       "    </tr>\n",
       "    <tr>\n",
       "      <th>std</th>\n",
       "      <td>1.000056e+00</td>\n",
       "      <td>1.000056e+00</td>\n",
       "      <td>1.000056e+00</td>\n",
       "      <td>1.000056e+00</td>\n",
       "      <td>1.000056e+00</td>\n",
       "      <td>1.000056e+00</td>\n",
       "      <td>1.000056e+00</td>\n",
       "      <td>1.000056e+00</td>\n",
       "      <td>1.000056e+00</td>\n",
       "      <td>1.000056e+00</td>\n",
       "      <td>1.000056e+00</td>\n",
       "      <td>1.000056e+00</td>\n",
       "      <td>1.000056e+00</td>\n",
       "      <td>1.000056e+00</td>\n",
       "      <td>1.000056e+00</td>\n",
       "      <td>1.000056e+00</td>\n",
       "      <td>0.0</td>\n",
       "    </tr>\n",
       "    <tr>\n",
       "      <th>min</th>\n",
       "      <td>-9.711973e-01</td>\n",
       "      <td>-4.155613e+00</td>\n",
       "      <td>-9.108875e-01</td>\n",
       "      <td>-6.679045e-01</td>\n",
       "      <td>-7.876755e-01</td>\n",
       "      <td>-6.489418e-01</td>\n",
       "      <td>-1.221758e+00</td>\n",
       "      <td>-7.446281e-01</td>\n",
       "      <td>-9.169952e-01</td>\n",
       "      <td>-7.472686e-01</td>\n",
       "      <td>-6.819606e-01</td>\n",
       "      <td>-9.664084e-01</td>\n",
       "      <td>-1.365191e+00</td>\n",
       "      <td>-1.191542e+00</td>\n",
       "      <td>-1.158882e+00</td>\n",
       "      <td>-4.495377e-01</td>\n",
       "      <td>0.0</td>\n",
       "    </tr>\n",
       "    <tr>\n",
       "      <th>25%</th>\n",
       "      <td>-8.704482e-01</td>\n",
       "      <td>3.667368e-01</td>\n",
       "      <td>-8.520982e-01</td>\n",
       "      <td>-6.679045e-01</td>\n",
       "      <td>-7.876755e-01</td>\n",
       "      <td>-6.489418e-01</td>\n",
       "      <td>-1.014125e+00</td>\n",
       "      <td>-7.446281e-01</td>\n",
       "      <td>-9.169952e-01</td>\n",
       "      <td>-7.472686e-01</td>\n",
       "      <td>-6.819606e-01</td>\n",
       "      <td>-8.736091e-01</td>\n",
       "      <td>-8.652204e-01</td>\n",
       "      <td>-8.088997e-01</td>\n",
       "      <td>-7.803523e-01</td>\n",
       "      <td>-4.495377e-01</td>\n",
       "      <td>0.0</td>\n",
       "    </tr>\n",
       "    <tr>\n",
       "      <th>50%</th>\n",
       "      <td>-2.883274e-01</td>\n",
       "      <td>3.667368e-01</td>\n",
       "      <td>-3.757635e-01</td>\n",
       "      <td>-5.868463e-01</td>\n",
       "      <td>-4.754304e-01</td>\n",
       "      <td>-6.489418e-01</td>\n",
       "      <td>2.404259e-02</td>\n",
       "      <td>-3.780223e-01</td>\n",
       "      <td>-4.976286e-01</td>\n",
       "      <td>-7.472686e-01</td>\n",
       "      <td>-6.819606e-01</td>\n",
       "      <td>-3.168136e-01</td>\n",
       "      <td>-4.136338e-01</td>\n",
       "      <td>-3.375007e-01</td>\n",
       "      <td>-4.237788e-01</td>\n",
       "      <td>-4.495377e-01</td>\n",
       "      <td>0.0</td>\n",
       "    </tr>\n",
       "    <tr>\n",
       "      <th>75%</th>\n",
       "      <td>5.646491e-01</td>\n",
       "      <td>3.667368e-01</td>\n",
       "      <td>6.126365e-01</td>\n",
       "      <td>3.671317e-01</td>\n",
       "      <td>5.319986e-01</td>\n",
       "      <td>5.416827e-01</td>\n",
       "      <td>1.062211e+00</td>\n",
       "      <td>4.485112e-01</td>\n",
       "      <td>9.701506e-01</td>\n",
       "      <td>4.368733e-01</td>\n",
       "      <td>4.783950e-01</td>\n",
       "      <td>6.111790e-01</td>\n",
       "      <td>6.508204e-01</td>\n",
       "      <td>6.738027e-01</td>\n",
       "      <td>6.386496e-01</td>\n",
       "      <td>-2.118108e-01</td>\n",
       "      <td>0.0</td>\n",
       "    </tr>\n",
       "    <tr>\n",
       "      <th>max</th>\n",
       "      <td>2.911266e+00</td>\n",
       "      <td>3.667368e-01</td>\n",
       "      <td>3.120231e+00</td>\n",
       "      <td>3.512681e+00</td>\n",
       "      <td>3.318839e+00</td>\n",
       "      <td>3.337571e+00</td>\n",
       "      <td>1.269843e+00</td>\n",
       "      <td>2.554838e+00</td>\n",
       "      <td>1.599199e+00</td>\n",
       "      <td>3.128100e+00</td>\n",
       "      <td>3.185891e+00</td>\n",
       "      <td>2.838361e+00</td>\n",
       "      <td>3.005522e+00</td>\n",
       "      <td>2.978873e+00</td>\n",
       "      <td>2.852750e+00</td>\n",
       "      <td>4.305014e+00</td>\n",
       "      <td>0.0</td>\n",
       "    </tr>\n",
       "  </tbody>\n",
       "</table>\n",
       "</div>"
      ],
      "text/plain": [
       "            BALANCE  BALANCE_FREQUENCY     PURCHASES  ONEOFF_PURCHASES  \\\n",
       "count  8.950000e+03       8.950000e+03  8.950000e+03      8.950000e+03   \n",
       "mean   1.459292e-16       3.641780e-15 -3.845664e-15      8.330072e-15   \n",
       "std    1.000056e+00       1.000056e+00  1.000056e+00      1.000056e+00   \n",
       "min   -9.711973e-01      -4.155613e+00 -9.108875e-01     -6.679045e-01   \n",
       "25%   -8.704482e-01       3.667368e-01 -8.520982e-01     -6.679045e-01   \n",
       "50%   -2.883274e-01       3.667368e-01 -3.757635e-01     -5.868463e-01   \n",
       "75%    5.646491e-01       3.667368e-01  6.126365e-01      3.671317e-01   \n",
       "max    2.911266e+00       3.667368e-01  3.120231e+00      3.512681e+00   \n",
       "\n",
       "       INSTALLMENTS_PURCHASES  CASH_ADVANCE  PURCHASES_FREQUENCY  \\\n",
       "count            8.950000e+03  8.950000e+03         8.950000e+03   \n",
       "mean             9.068103e-16  8.933760e-16        -3.716084e-16   \n",
       "std              1.000056e+00  1.000056e+00         1.000056e+00   \n",
       "min             -7.876755e-01 -6.489418e-01        -1.221758e+00   \n",
       "25%             -7.876755e-01 -6.489418e-01        -1.014125e+00   \n",
       "50%             -4.754304e-01 -6.489418e-01         2.404259e-02   \n",
       "75%              5.319986e-01  5.416827e-01         1.062211e+00   \n",
       "max              3.318839e+00  3.337571e+00         1.269843e+00   \n",
       "\n",
       "       ONEOFF_PURCHASES_FREQUENCY  PURCHASES_INSTALLMENTS_FREQUENCY  \\\n",
       "count                8.950000e+03                      8.950000e+03   \n",
       "mean                -7.758809e-15                      2.353921e-16   \n",
       "std                  1.000056e+00                      1.000056e+00   \n",
       "min                 -7.446281e-01                     -9.169952e-01   \n",
       "25%                 -7.446281e-01                     -9.169952e-01   \n",
       "50%                 -3.780223e-01                     -4.976286e-01   \n",
       "75%                  4.485112e-01                      9.701506e-01   \n",
       "max                  2.554838e+00                      1.599199e+00   \n",
       "\n",
       "       CASH_ADVANCE_FREQUENCY  CASH_ADVANCE_TRX  PURCHASES_TRX  CREDIT_LIMIT  \\\n",
       "count            8.950000e+03      8.950000e+03   8.950000e+03  8.950000e+03   \n",
       "mean            -9.233334e-16     -7.427330e-17   9.962980e-16  4.909878e-15   \n",
       "std              1.000056e+00      1.000056e+00   1.000056e+00  1.000056e+00   \n",
       "min             -7.472686e-01     -6.819606e-01  -9.664084e-01 -1.365191e+00   \n",
       "25%             -7.472686e-01     -6.819606e-01  -8.736091e-01 -8.652204e-01   \n",
       "50%             -7.472686e-01     -6.819606e-01  -3.168136e-01 -4.136338e-01   \n",
       "75%              4.368733e-01      4.783950e-01   6.111790e-01  6.508204e-01   \n",
       "max              3.128100e+00      3.185891e+00   2.838361e+00  3.005522e+00   \n",
       "\n",
       "           PAYMENTS  MINIMUM_PAYMENTS  PRC_FULL_PAYMENT  TENURE  \n",
       "count  8.950000e+03      8.950000e+03      8.950000e+03  8950.0  \n",
       "mean   4.842805e-16     -2.008573e-16     -2.921344e-15     0.0  \n",
       "std    1.000056e+00      1.000056e+00      1.000056e+00     0.0  \n",
       "min   -1.191542e+00     -1.158882e+00     -4.495377e-01     0.0  \n",
       "25%   -8.088997e-01     -7.803523e-01     -4.495377e-01     0.0  \n",
       "50%   -3.375007e-01     -4.237788e-01     -4.495377e-01     0.0  \n",
       "75%    6.738027e-01      6.386496e-01     -2.118108e-01     0.0  \n",
       "max    2.978873e+00      2.852750e+00      4.305014e+00     0.0  "
      ]
     },
     "execution_count": 13,
     "metadata": {},
     "output_type": "execute_result"
    }
   ],
   "source": [
    "std_imp_data = pd.DataFrame(StandardScaler().fit_transform(imp_data), columns=imp_data.columns)\n",
    "std_imp_data.describe()"
   ]
  },
  {
   "cell_type": "markdown",
   "id": "750bea42",
   "metadata": {},
   "source": [
    "## Dimention Reduction using PCA\n",
    "K-means, DBSCAN and agglomerative clustering, all use the Euclidean distance, which starts to lose its meaning when the number of dimensions starts increasing. so, before using these methods, we have to reduce the number of dimensions. I'm going to use PCA, which is by far the most popular dimensionality reduction algorithm. \n",
    "\n",
    "***⚠ If you are not familiar with PCA or need to learn more about it, I highly recommend you read [my Notes](https://cookie-baboon-7d6.notion.site/PCA-0879e6e386b747c6881506bfdf0e9c61) on this dimentionality reduction method, In which I cover almost anything you need to know about this algorithm.***\n",
    "\n",
    "here I set parameter `n_components` equals to 0.9, which means that the PCA will automatically produce enough PCs that will preserve 90% of variance in the dataset."
   ]
  },
  {
   "cell_type": "code",
   "execution_count": 14,
   "id": "97bb3779",
   "metadata": {},
   "outputs": [],
   "source": [
    "pca = PCA(n_components=0.9, random_state=42)\n",
    "pca.fit(std_imp_data)\n",
    "PC_names = ['PC'+str(x) for x in range(1,len(pca.components_)+1)]\n",
    "pca_data = pd.DataFrame(pca.transform(std_imp_data), columns=PC_names)"
   ]
  },
  {
   "cell_type": "code",
   "execution_count": 15,
   "id": "16f87254",
   "metadata": {},
   "outputs": [
    {
     "data": {
      "text/plain": [
       "<matplotlib.colorbar.Colorbar at 0x7f89e6d46ac0>"
      ]
     },
     "execution_count": 15,
     "metadata": {},
     "output_type": "execute_result"
    },
    {
     "data": {
      "image/png": "[encoded data removed]",
      "text/plain": [
       "<Figure size 1728x1152 with 2 Axes>"
      ]
     },
     "metadata": {},
     "output_type": "display_data"
    }
   ],
   "source": [
    "fig, ax = plt.subplots(figsize=(24, 16))\n",
    "plt.imshow(pca.components_.T,\n",
    "           cmap=\"Spectral\",\n",
    "           vmin=-1,\n",
    "           vmax=1,\n",
    "          )\n",
    "plt.yticks(range(len(std_imp_data.columns)), std_imp_data.columns)\n",
    "plt.xticks(range(len(pca_data.columns)), pca_data.columns)\n",
    "plt.xlabel(\"Principal Component\")\n",
    "plt.ylabel(\"Contribution\")\n",
    "plt.title(\"Contribution of Features to Components\")\n",
    "plt.colorbar()"
   ]
  },
  {
   "cell_type": "markdown",
   "id": "952291eb",
   "metadata": {},
   "source": [
    "# Train the Model\n",
    "now that we have done the preprocessing step, we can perform K-means clustering on our data. \n",
    "\n",
    "first, we have to find good parameters for our model."
   ]
  },
  {
   "cell_type": "markdown",
   "id": "9f590511",
   "metadata": {},
   "source": [
    "## Find the `n_clusters` parameter using the elbow method"
   ]
  },
  {
   "cell_type": "code",
   "execution_count": 16,
   "id": "867cc72c",
   "metadata": {},
   "outputs": [
    {
     "data": {
      "image/png": "[encoded data removed]",
      "text/plain": [
       "<Figure size 576x396 with 2 Axes>"
      ]
     },
     "metadata": {},
     "output_type": "display_data"
    },
    {
     "data": {
      "text/plain": [
       "<matplotlib.axes._subplots.AxesSubplot at 0x7f89e66625b0>"
      ]
     },
     "execution_count": 16,
     "metadata": {},
     "output_type": "execute_result"
    }
   ],
   "source": [
    "model = KMeans(random_state=42)\n",
    "distortion_visualizer = KElbowVisualizer(model, k=(2,10))\n",
    "\n",
    "distortion_visualizer.fit(pca_data)       \n",
    "distortion_visualizer.show()       "
   ]
  },
  {
   "cell_type": "code",
   "execution_count": 17,
   "id": "1ac9f581",
   "metadata": {},
   "outputs": [],
   "source": [
    "km_model = KMeans(distortion_visualizer.elbow_value_, random_state=42)\n",
    "labels = km_model.fit_predict(pca_data)"
   ]
  },
  {
   "cell_type": "markdown",
   "id": "b9eefaa7",
   "metadata": {},
   "source": [
    "# Evaluate the Model\n",
    "Let's see how good/bad is our model.\n",
    "\n",
    "we start by caculating two metrics: \n",
    "- **The Davis-Bouldin Index** is the average similarity between each cluster and the closest cluster. Scores range from 0 and up. 0 indicates better clustering.\n",
    "- **The Silhouette Coefficient** is a value between -1 and 1. The higher the score, the better. 1 indicates tight clusters, and 0 means overlapping clusters. "
   ]
  },
  {
   "cell_type": "code",
   "execution_count": 18,
   "id": "cbe68f7f",
   "metadata": {},
   "outputs": [
    {
     "name": "stdout",
     "output_type": "stream",
     "text": [
      "Davies-Bouldin index = 1.553675096074755\n",
      "Silhouette Score = 0.1989293328933083\n"
     ]
    }
   ],
   "source": [
    "print(f'Davies-Bouldin index = {davies_bouldin_score(pca_data, labels)}')\n",
    "print(f'Silhouette Score = {silhouette_score(pca_data, labels)}')"
   ]
  },
  {
   "cell_type": "code",
   "execution_count": null,
   "id": "8284daf5",
   "metadata": {},
   "outputs": [],
   "source": []
  }
 ],
 "metadata": {
  "kernelspec": {
   "display_name": "Python 3",
   "language": "python",
   "name": "python3"
  },
  "language_info": {
   "codemirror_mode": {
    "name": "ipython",
    "version": 3
   },
   "file_extension": ".py",
   "mimetype": "text/x-python",
   "name": "python",
   "nbconvert_exporter": "python",
   "pygments_lexer": "ipython3",
   "version": "3.8.8"
  }
 },
 "nbformat": 4,
 "nbformat_minor": 5
}
